{
 "cells": [
  {
   "cell_type": "code",
   "execution_count": 1,
   "metadata": {},
   "outputs": [],
   "source": [
    "from apiclient.discovery import build\n",
    "from apiclient.errors import HttpError\n",
    "import pandas as pd\n",
    "import numpy as np"
   ]
  },
  {
   "cell_type": "code",
   "execution_count": 2,
   "metadata": {},
   "outputs": [],
   "source": [
    "DEVELOPER_KEY = # get youtubeapi id here\n",
    "YOUTUBE_API_SERVICE_NAME = \"youtube\"\n",
    "YOUTUBE_API_VERSION = \"v3\"\n",
    "youtube = build(YOUTUBE_API_SERVICE_NAME, YOUTUBE_API_VERSION,\n",
    "    developerKey=DEVELOPER_KEY)"
   ]
  },
  {
   "cell_type": "code",
   "execution_count": 3,
   "metadata": {},
   "outputs": [],
   "source": [
    "#We define a progress bar to be used during data loading\n",
    "def printProgressBar (iteration, total, prefix = '', suffix = '', decimals = 1, length = 100, fill = '█'):\n",
    "    \"\"\"\n",
    "    Call in a loop to create terminal progress bar\n",
    "    @params:\n",
    "        iteration   - Required  : current iteration (Int)\n",
    "        total       - Required  : total iterations (Int)\n",
    "        prefix      - Optional  : prefix string (Str)\n",
    "        suffix      - Optional  : suffix string (Str)\n",
    "        decimals    - Optional  : positive number of decimals in percent complete (Int)\n",
    "        length      - Optional  : character length of bar (Int)\n",
    "        fill        - Optional  : bar fill character (Str)\n",
    "    \"\"\"\n",
    "    percent = (\"{0:.\" + str(decimals) + \"f}\").format(100 * (iteration / float(total)))\n",
    "    filledLength = int(length * iteration // total)\n",
    "    bar = fill * filledLength + '-' * (length - filledLength)\n",
    "    print('\\r%s |%s| %s%% %s' % (prefix, bar, percent, suffix), end = '\\r')\n",
    "    # Print New Line on Complete\n",
    "    if iteration == total: \n",
    "        print()\n"
   ]
  },
  {
   "cell_type": "markdown",
   "metadata": {},
   "source": [
    "## Grabbing Youtube Videos:"
   ]
  },
  {
   "cell_type": "code",
   "execution_count": 4,
   "metadata": {},
   "outputs": [],
   "source": [
    "max_results = 50\n",
    "videos = youtube.search().list(\n",
    "    q=\"iran\",\n",
    "    type=\"video\",\n",
    "    order = \"relevance\",\n",
    "    maxResults=max_results,\n",
    "    part=\"id,snippet\"\n",
    ").execute().get('items')\n"
   ]
  },
  {
   "cell_type": "code",
   "execution_count": 5,
   "metadata": {},
   "outputs": [
    {
     "name": "stdout",
     "output_type": "stream",
     "text": [
      "\r",
      "Progress: |--------------------------------------------------| 0.0% Complete\r",
      "\r",
      "Progress: |█-------------------------------------------------| 2.0% Complete\r",
      "\r",
      "Progress: |██------------------------------------------------| 4.0% Complete\r",
      "\r",
      "Progress: |███-----------------------------------------------| 6.0% Complete\r",
      "\r",
      "Progress: |████----------------------------------------------| 8.0% Complete\r",
      "\r",
      "Progress: |█████---------------------------------------------| 10.0% Complete\r",
      "\r",
      "Progress: |██████--------------------------------------------| 12.0% Complete\r",
      "\r",
      "Progress: |███████-------------------------------------------| 14.0% Complete\r",
      "\r",
      "Progress: |████████------------------------------------------| 16.0% Complete\r",
      "\r",
      "Progress: |█████████-----------------------------------------| 18.0% Complete\r",
      "\r",
      "Progress: |██████████----------------------------------------| 20.0% Complete\r",
      "\r",
      "Progress: |███████████---------------------------------------| 22.0% Complete\r",
      "\r",
      "Progress: |████████████--------------------------------------| 24.0% Complete\r",
      "\r",
      "Progress: |█████████████-------------------------------------| 26.0% Complete\r",
      "\r",
      "Progress: |██████████████------------------------------------| 28.0% Complete\r",
      "\r",
      "Progress: |███████████████-----------------------------------| 30.0% Complete\r",
      "\r",
      "Progress: |████████████████----------------------------------| 32.0% Complete\r",
      "\r",
      "Progress: |█████████████████---------------------------------| 34.0% Complete\r",
      "\r",
      "Progress: |██████████████████--------------------------------| 36.0% Complete\r",
      "\r",
      "Progress: |███████████████████-------------------------------| 38.0% Complete\r",
      "\r",
      "Progress: |████████████████████------------------------------| 40.0% Complete\r",
      "\r",
      "Progress: |█████████████████████-----------------------------| 42.0% Complete\r",
      "\r",
      "Progress: |██████████████████████----------------------------| 44.0% Complete\r",
      "\r",
      "Progress: |███████████████████████---------------------------| 46.0% Complete\r",
      "\r",
      "Progress: |████████████████████████--------------------------| 48.0% Complete\r",
      "\r",
      "Progress: |█████████████████████████-------------------------| 50.0% Complete\r",
      "\r",
      "Progress: |██████████████████████████------------------------| 52.0% Complete\r",
      "\r",
      "Progress: |███████████████████████████-----------------------| 54.0% Complete\r",
      "\r",
      "Progress: |████████████████████████████----------------------| 56.0% Complete\r",
      "\r",
      "Progress: |█████████████████████████████---------------------| 58.0% Complete\r",
      "\r",
      "Progress: |██████████████████████████████--------------------| 60.0% Complete\r",
      "\r",
      "Progress: |███████████████████████████████-------------------| 62.0% Complete\r",
      "\r",
      "Progress: |████████████████████████████████------------------| 64.0% Complete\r",
      "\r",
      "Progress: |█████████████████████████████████-----------------| 66.0% Complete\r",
      "\r",
      "Progress: |██████████████████████████████████----------------| 68.0% Complete\r",
      "\r",
      "Progress: |███████████████████████████████████---------------| 70.0% Complete\r",
      "\r",
      "Progress: |████████████████████████████████████--------------| 72.0% Complete\r",
      "\r",
      "Progress: |█████████████████████████████████████-------------| 74.0% Complete\r",
      "\r",
      "Progress: |██████████████████████████████████████------------| 76.0% Complete\r",
      "\r",
      "Progress: |███████████████████████████████████████-----------| 78.0% Complete\r",
      "\r",
      "Progress: |████████████████████████████████████████----------| 80.0% Complete\r",
      "\r",
      "Progress: |█████████████████████████████████████████---------| 82.0% Complete\r",
      "\r",
      "Progress: |██████████████████████████████████████████--------| 84.0% Complete\r",
      "\r",
      "Progress: |███████████████████████████████████████████-------| 86.0% Complete\r",
      "\r",
      "Progress: |████████████████████████████████████████████------| 88.0% Complete\r",
      "\r",
      "Progress: |█████████████████████████████████████████████-----| 90.0% Complete\r",
      "\r",
      "Progress: |██████████████████████████████████████████████----| 92.0% Complete\r",
      "\r",
      "Progress: |███████████████████████████████████████████████---| 94.0% Complete\r",
      "\r",
      "Progress: |████████████████████████████████████████████████--| 96.0% Complete\r",
      "\r",
      "Progress: |█████████████████████████████████████████████████-| 98.0% Complete\r",
      "\r",
      "Progress: |██████████████████████████████████████████████████| 100.0% Complete\r\n"
     ]
    }
   ],
   "source": [
    "data={\n",
    "    'title':[],\n",
    "    'channelId':[],\n",
    "    'channelTitle':[],\n",
    "    'description':[],\n",
    "    'videoId':[],\n",
    "    'publishedAt':[]\n",
    "}\n",
    "l = len(videos)\n",
    "printProgressBar(0, l, prefix = 'Progress:', suffix = 'Complete', length = 50)\n",
    "for i,item in enumerate(videos):\n",
    "    data['title'].append(item['snippet']['title'])\n",
    "    data['channelId'].append(item['snippet']['channelId'])\n",
    "    data['channelTitle'].append(item['snippet']['channelTitle'])\n",
    "    data['description'].append(item['snippet']['description'])\n",
    "    data['videoId'].append(item['id']['videoId'])\n",
    "    data['publishedAt'].append(item['snippet']['publishedAt'])\n",
    "    printProgressBar(i + 1, l, prefix = 'Progress:', suffix = 'Complete', length = 50)\n",
    "\n",
    "    "
   ]
  },
  {
   "cell_type": "code",
   "execution_count": 6,
   "metadata": {},
   "outputs": [],
   "source": [
    "videos_df =pd.DataFrame(data=data)"
   ]
  },
  {
   "cell_type": "code",
   "execution_count": 34,
   "metadata": {},
   "outputs": [
    {
     "data": {
      "text/html": [
       "<div>\n",
       "<style scoped>\n",
       "    .dataframe tbody tr th:only-of-type {\n",
       "        vertical-align: middle;\n",
       "    }\n",
       "\n",
       "    .dataframe tbody tr th {\n",
       "        vertical-align: top;\n",
       "    }\n",
       "\n",
       "    .dataframe thead th {\n",
       "        text-align: right;\n",
       "    }\n",
       "</style>\n",
       "<table border=\"1\" class=\"dataframe\">\n",
       "  <thead>\n",
       "    <tr style=\"text-align: right;\">\n",
       "      <th></th>\n",
       "      <th>title</th>\n",
       "      <th>channelId</th>\n",
       "      <th>channelTitle</th>\n",
       "      <th>description</th>\n",
       "      <th>videoId</th>\n",
       "      <th>publishedAt</th>\n",
       "    </tr>\n",
       "  </thead>\n",
       "  <tbody>\n",
       "    <tr>\n",
       "      <th>0</th>\n",
       "      <td>\"Riyadh planned to assassinate Iran's General ...</td>\n",
       "      <td>UCaFxVc4xHOea6s5CO0eBxIA</td>\n",
       "      <td>PressTV</td>\n",
       "      <td>A US media report says top Saudi officials in ...</td>\n",
       "      <td>kE-BUQyS8zY</td>\n",
       "      <td>2018-11-12T09:22:13.000Z</td>\n",
       "    </tr>\n",
       "    <tr>\n",
       "      <th>1</th>\n",
       "      <td>🇺🇸 🇮🇷 From rhetoric to reality: The return of ...</td>\n",
       "      <td>UCNye-wNBqNL5ZzHSJj3l8Bg</td>\n",
       "      <td>Al Jazeera English</td>\n",
       "      <td>Earlier this month, US President Donald Trump ...</td>\n",
       "      <td>WTR-_j87XXI</td>\n",
       "      <td>2018-11-12T07:35:08.000Z</td>\n",
       "    </tr>\n",
       "    <tr>\n",
       "      <th>2</th>\n",
       "      <td>Iran had \"credible info\" on Saudi's assassinat...</td>\n",
       "      <td>UCaFxVc4xHOea6s5CO0eBxIA</td>\n",
       "      <td>PressTV</td>\n",
       "      <td>Iran's Foreign Minister, Mohammad Javad Zarif,...</td>\n",
       "      <td>XkadKw3N3fE</td>\n",
       "      <td>2018-11-13T11:13:58.000Z</td>\n",
       "    </tr>\n",
       "    <tr>\n",
       "      <th>3</th>\n",
       "      <td>David Petraeus on Iran sanctions and helping v...</td>\n",
       "      <td>UCrp_UI8XtuYfpiqluWLD7Lw</td>\n",
       "      <td>CNBC Television</td>\n",
       "      <td>David Petraeus, KKR Global Institute chair and...</td>\n",
       "      <td>RILhIjjTbEw</td>\n",
       "      <td>2018-11-12T13:19:36.000Z</td>\n",
       "    </tr>\n",
       "    <tr>\n",
       "      <th>4</th>\n",
       "      <td>Weekly Update --- President Trump’s Iran Polic...</td>\n",
       "      <td>UCkJ1N-7g9Q6n7KnriGit-Ig</td>\n",
       "      <td>RonPaulLibertyReport</td>\n",
       "      <td>Pompeo comes clean on US policy toward Iran.</td>\n",
       "      <td>pM-7vssczKY</td>\n",
       "      <td>2018-11-13T00:34:35.000Z</td>\n",
       "    </tr>\n",
       "  </tbody>\n",
       "</table>\n",
       "</div>"
      ],
      "text/plain": [
       "                                               title  \\\n",
       "0  \"Riyadh planned to assassinate Iran's General ...   \n",
       "1  🇺🇸 🇮🇷 From rhetoric to reality: The return of ...   \n",
       "2  Iran had \"credible info\" on Saudi's assassinat...   \n",
       "3  David Petraeus on Iran sanctions and helping v...   \n",
       "4  Weekly Update --- President Trump’s Iran Polic...   \n",
       "\n",
       "                  channelId          channelTitle  \\\n",
       "0  UCaFxVc4xHOea6s5CO0eBxIA               PressTV   \n",
       "1  UCNye-wNBqNL5ZzHSJj3l8Bg    Al Jazeera English   \n",
       "2  UCaFxVc4xHOea6s5CO0eBxIA               PressTV   \n",
       "3  UCrp_UI8XtuYfpiqluWLD7Lw       CNBC Television   \n",
       "4  UCkJ1N-7g9Q6n7KnriGit-Ig  RonPaulLibertyReport   \n",
       "\n",
       "                                         description      videoId  \\\n",
       "0  A US media report says top Saudi officials in ...  kE-BUQyS8zY   \n",
       "1  Earlier this month, US President Donald Trump ...  WTR-_j87XXI   \n",
       "2  Iran's Foreign Minister, Mohammad Javad Zarif,...  XkadKw3N3fE   \n",
       "3  David Petraeus, KKR Global Institute chair and...  RILhIjjTbEw   \n",
       "4       Pompeo comes clean on US policy toward Iran.  pM-7vssczKY   \n",
       "\n",
       "                publishedAt  \n",
       "0  2018-11-12T09:22:13.000Z  \n",
       "1  2018-11-12T07:35:08.000Z  \n",
       "2  2018-11-13T11:13:58.000Z  \n",
       "3  2018-11-12T13:19:36.000Z  \n",
       "4  2018-11-13T00:34:35.000Z  "
      ]
     },
     "execution_count": 34,
     "metadata": {},
     "output_type": "execute_result"
    }
   ],
   "source": [
    "videos_df.head()"
   ]
  },
  {
   "cell_type": "code",
   "execution_count": 7,
   "metadata": {},
   "outputs": [],
   "source": [
    "videos_df.to_csv('videos.csv',index = False,encoding='utf-8')"
   ]
  },
  {
   "cell_type": "markdown",
   "metadata": {},
   "source": [
    "## Grabbing Youtube Comments:"
   ]
  },
  {
   "cell_type": "code",
   "execution_count": 8,
   "metadata": {},
   "outputs": [],
   "source": [
    "threads = youtube.commentThreads().list( \n",
    "    videoId=\"YHNLzmXLW84\" ,  \n",
    "    part='snippet,replies',\n",
    "    maxResults=100\n",
    ").execute()"
   ]
  },
  {
   "cell_type": "code",
   "execution_count": 9,
   "metadata": {},
   "outputs": [
    {
     "name": "stdout",
     "output_type": "stream",
     "text": [
      "Progress: |██████████████████████████████████████████████████| 100.0% Complete\n"
     ]
    }
   ],
   "source": [
    "comments_data={\n",
    "    'id':[],\n",
    "    'likeCount':[],\n",
    "    'textDisplay':[],\n",
    "    'videoId':[],\n",
    "    'authorDisplayName':[],\n",
    "    'authorChannelId':[],\n",
    "    'publishedAt':[]\n",
    "}\n",
    "l = len(videos)\n",
    "printProgressBar(0, l, prefix = 'Progress:', suffix = 'Complete', length = 50)\n",
    "for i,item in enumerate(videos):\n",
    "    try:\n",
    "        threads = youtube.commentThreads().list( \n",
    "            videoId=item['id']['videoId'] ,  \n",
    "            part='snippet,replies',\n",
    "            maxResults=100\n",
    "        ).execute().get('items')\n",
    "        for thread in threads:\n",
    "            comments_data['id'].append(thread['id'])\n",
    "            comments_data['likeCount'].append(thread['snippet']['topLevelComment']['snippet']['likeCount'])\n",
    "            comments_data['textDisplay'].append(thread['snippet']['topLevelComment']['snippet']['textDisplay'])\n",
    "            comments_data['videoId'].append(thread['snippet']['videoId'])\n",
    "            comments_data['publishedAt'].append(thread['snippet']['topLevelComment']['snippet']['publishedAt'])\n",
    "            comments_data['authorChannelId'].append(thread['snippet']['topLevelComment']['snippet']['authorChannelId']['value'])\n",
    "            comments_data['authorDisplayName'].append(thread['snippet']['topLevelComment']['snippet']['authorDisplayName'])\n",
    "        printProgressBar(i + 1, l, prefix = 'Progress:', suffix = 'Complete', length = 50)\n",
    "\n",
    "    except:\n",
    "        printProgressBar(i + 1, l, prefix = 'Progress:', suffix = 'Complete', length = 50)\n",
    "\n"
   ]
  },
  {
   "cell_type": "code",
   "execution_count": 10,
   "metadata": {},
   "outputs": [],
   "source": [
    "comments_df  = pd.DataFrame(data=comments_data)"
   ]
  },
  {
   "cell_type": "code",
   "execution_count": 11,
   "metadata": {},
   "outputs": [
    {
     "data": {
      "text/html": [
       "<div>\n",
       "<style scoped>\n",
       "    .dataframe tbody tr th:only-of-type {\n",
       "        vertical-align: middle;\n",
       "    }\n",
       "\n",
       "    .dataframe tbody tr th {\n",
       "        vertical-align: top;\n",
       "    }\n",
       "\n",
       "    .dataframe thead th {\n",
       "        text-align: right;\n",
       "    }\n",
       "</style>\n",
       "<table border=\"1\" class=\"dataframe\">\n",
       "  <thead>\n",
       "    <tr style=\"text-align: right;\">\n",
       "      <th></th>\n",
       "      <th>id</th>\n",
       "      <th>likeCount</th>\n",
       "      <th>textDisplay</th>\n",
       "      <th>videoId</th>\n",
       "      <th>authorDisplayName</th>\n",
       "      <th>authorChannelId</th>\n",
       "      <th>publishedAt</th>\n",
       "    </tr>\n",
       "  </thead>\n",
       "  <tbody>\n",
       "    <tr>\n",
       "      <th>0</th>\n",
       "      <td>Ugy613DhUjK8QkOXwLR4AaABAg</td>\n",
       "      <td>1</td>\n",
       "      <td>U guys couldent wack a journalist in your own ...</td>\n",
       "      <td>kE-BUQyS8zY</td>\n",
       "      <td>john jackson</td>\n",
       "      <td>UCqQ2Lyzto52tvQrJpLtc2ew</td>\n",
       "      <td>2018-11-13T13:24:55.000Z</td>\n",
       "    </tr>\n",
       "    <tr>\n",
       "      <th>1</th>\n",
       "      <td>Ugw3m5fufGSjqGw2i494AaABAg</td>\n",
       "      <td>0</td>\n",
       "      <td>Saudi Arabia is a big joke.... slaves of Ameri...</td>\n",
       "      <td>kE-BUQyS8zY</td>\n",
       "      <td>mohsen majlise</td>\n",
       "      <td>UCp3wi5YQadK4xaIXE2eiEMQ</td>\n",
       "      <td>2018-11-13T07:09:48.000Z</td>\n",
       "    </tr>\n",
       "    <tr>\n",
       "      <th>2</th>\n",
       "      <td>Ugw3CDkJG_Pvylbzk8R4AaABAg</td>\n",
       "      <td>0</td>\n",
       "      <td>Yahh good luck with that stupid arabs</td>\n",
       "      <td>kE-BUQyS8zY</td>\n",
       "      <td>haval 7</td>\n",
       "      <td>UCI2iH7P0HgdmDjfzHb0Nn9A</td>\n",
       "      <td>2018-11-13T06:19:57.000Z</td>\n",
       "    </tr>\n",
       "    <tr>\n",
       "      <th>3</th>\n",
       "      <td>UgwUVJbGaZVkD0i4gvF4AaABAg</td>\n",
       "      <td>0</td>\n",
       "      <td>Death to alsaud</td>\n",
       "      <td>kE-BUQyS8zY</td>\n",
       "      <td>Manzoor Akhone</td>\n",
       "      <td>UCc9IEQ-oAU0CS0PVqxCjyfg</td>\n",
       "      <td>2018-11-13T04:15:24.000Z</td>\n",
       "    </tr>\n",
       "    <tr>\n",
       "      <th>4</th>\n",
       "      <td>UgyooAPj_cza_WJ_Oeh4AaABAg</td>\n",
       "      <td>1</td>\n",
       "      <td>Not to worry, Haji Ghasem back is covered by H...</td>\n",
       "      <td>kE-BUQyS8zY</td>\n",
       "      <td>Dokhte Iran</td>\n",
       "      <td>UCDDPMgLfslUmr45_jrYoBJQ</td>\n",
       "      <td>2018-11-13T02:32:41.000Z</td>\n",
       "    </tr>\n",
       "  </tbody>\n",
       "</table>\n",
       "</div>"
      ],
      "text/plain": [
       "                           id  likeCount  \\\n",
       "0  Ugy613DhUjK8QkOXwLR4AaABAg          1   \n",
       "1  Ugw3m5fufGSjqGw2i494AaABAg          0   \n",
       "2  Ugw3CDkJG_Pvylbzk8R4AaABAg          0   \n",
       "3  UgwUVJbGaZVkD0i4gvF4AaABAg          0   \n",
       "4  UgyooAPj_cza_WJ_Oeh4AaABAg          1   \n",
       "\n",
       "                                         textDisplay      videoId  \\\n",
       "0  U guys couldent wack a journalist in your own ...  kE-BUQyS8zY   \n",
       "1  Saudi Arabia is a big joke.... slaves of Ameri...  kE-BUQyS8zY   \n",
       "2              Yahh good luck with that stupid arabs  kE-BUQyS8zY   \n",
       "3                                    Death to alsaud  kE-BUQyS8zY   \n",
       "4  Not to worry, Haji Ghasem back is covered by H...  kE-BUQyS8zY   \n",
       "\n",
       "  authorDisplayName           authorChannelId               publishedAt  \n",
       "0      john jackson  UCqQ2Lyzto52tvQrJpLtc2ew  2018-11-13T13:24:55.000Z  \n",
       "1    mohsen majlise  UCp3wi5YQadK4xaIXE2eiEMQ  2018-11-13T07:09:48.000Z  \n",
       "2           haval 7  UCI2iH7P0HgdmDjfzHb0Nn9A  2018-11-13T06:19:57.000Z  \n",
       "3    Manzoor Akhone  UCc9IEQ-oAU0CS0PVqxCjyfg  2018-11-13T04:15:24.000Z  \n",
       "4       Dokhte Iran  UCDDPMgLfslUmr45_jrYoBJQ  2018-11-13T02:32:41.000Z  "
      ]
     },
     "execution_count": 11,
     "metadata": {},
     "output_type": "execute_result"
    }
   ],
   "source": [
    "comments_df.head()"
   ]
  },
  {
   "cell_type": "code",
   "execution_count": 12,
   "metadata": {},
   "outputs": [],
   "source": [
    "comments_df.to_csv('comments.csv',index = False,encoding='utf-8')"
   ]
  },
  {
   "cell_type": "markdown",
   "metadata": {},
   "source": [
    "## Sentiment Analysis"
   ]
  },
  {
   "cell_type": "code",
   "execution_count": 13,
   "metadata": {},
   "outputs": [],
   "source": [
    "import matplotlib.pyplot as plt\n",
    "import numpy as np\n",
    "from textblob import TextBlob\n",
    "import re"
   ]
  },
  {
   "cell_type": "markdown",
   "metadata": {},
   "source": [
    "We start by loading the data we saved during the api use."
   ]
  },
  {
   "cell_type": "code",
   "execution_count": 14,
   "metadata": {},
   "outputs": [],
   "source": [
    "def clean_text(text):\n",
    "    return ' '.join(re.sub(\"(@[A-Za-z0-9]+)|([^0-9A-Za-z \\t])|(\\w+:\\/\\/\\S+)\", \" \", text).split())"
   ]
  },
  {
   "cell_type": "code",
   "execution_count": 15,
   "metadata": {},
   "outputs": [],
   "source": [
    "descriptions=np.concatenate((videos_df.description,comments_df.textDisplay))"
   ]
  },
  {
   "cell_type": "code",
   "execution_count": 16,
   "metadata": {},
   "outputs": [],
   "source": [
    "descriptions = np.array(list(map(clean_text,descriptions)))"
   ]
  },
  {
   "cell_type": "code",
   "execution_count": 17,
   "metadata": {},
   "outputs": [
    {
     "data": {
      "image/png": "[encoded data removed]",
      "text/plain": [
       "<Figure size 432x288 with 1 Axes>"
      ]
     },
     "metadata": {},
     "output_type": "display_data"
    }
   ],
   "source": [
    "p=[]\n",
    "for message in descriptions :\n",
    "    analysis = TextBlob(message) \n",
    "    p.append(analysis.sentiment.polarity)\n",
    "plt.hist(np.array(p), bins=20)  # arguments are passed to np.histogram\n",
    "plt.title(\"Histogram\")\n",
    "plt.show()"
   ]
  },
  {
   "cell_type": "code",
   "execution_count": 18,
   "metadata": {
    "scrolled": true
   },
   "outputs": [
    {
     "data": {
      "image/png": "[encoded data removed]",
      "text/plain": [
       "<Figure size 432x288 with 1 Axes>"
      ]
     },
     "metadata": {},
     "output_type": "display_data"
    }
   ],
   "source": [
    " # Data to plot\n",
    "sizes = {\n",
    "    'Negative':0, 'Neutral':0, 'Positive':0\n",
    "}\n",
    "for i in p :\n",
    "    if i > 0:\n",
    "        sizes['Positive'] +=1\n",
    "    elif i < 0:\n",
    "        sizes['Negative'] +=1\n",
    "    else:\n",
    "        sizes['Neutral'] +=1\n",
    "\n",
    "\n",
    "colors = ['lightcoral','lightskyblue', 'yellowgreen']\n",
    "explode = (0.1, 0, 0) \n",
    "plt.pie(sizes.values(), labels=sizes.keys(), colors=colors,explode=explode,\n",
    "        autopct='%1.1f%%', shadow=True, startangle=140)\n",
    " \n",
    "plt.axis('equal')\n",
    "plt.show()"
   ]
  },
  {
   "cell_type": "markdown",
   "metadata": {},
   "source": [
    "## WordCloud"
   ]
  },
  {
   "cell_type": "code",
   "execution_count": 19,
   "metadata": {},
   "outputs": [],
   "source": [
    "from wordcloud import WordCloud\n",
    "from nltk.corpus import stopwords\n",
    "from nltk.tokenize import word_tokenize\n",
    "from PIL import Image\n",
    "from os import path,getcwd\n"
   ]
  },
  {
   "cell_type": "code",
   "execution_count": 20,
   "metadata": {},
   "outputs": [],
   "source": [
    "all_comments = ' '.join(descriptions)"
   ]
  },
  {
   "cell_type": "code",
   "execution_count": 21,
   "metadata": {},
   "outputs": [],
   "source": [
    "stop_words = set(stopwords.words('english'))"
   ]
  },
  {
   "cell_type": "code",
   "execution_count": 22,
   "metadata": {},
   "outputs": [
    {
     "data": {
      "text/plain": [
       "<wordcloud.wordcloud.WordCloud at 0x200e90784e0>"
      ]
     },
     "execution_count": 22,
     "metadata": {},
     "output_type": "execute_result"
    }
   ],
   "source": [
    "\n",
    "# get data directory (using getcwd() is needed to support running example in generated IPython notebook)\n",
    "d = path.dirname(__file__) if \"__file__\" in locals() else getcwd()\n",
    "iran_mask = np.array(Image.open(path.join(d, \"iran1.png\")))\n",
    "\n",
    "cloud = WordCloud(background_color=\"white\", max_words=1000, mask=iran_mask,\n",
    "               stopwords=stop_words, contour_width=3, contour_color='steelblue')\n",
    "cloud.generate(all_comments)\n"
   ]
  },
  {
   "cell_type": "code",
   "execution_count": 23,
   "metadata": {},
   "outputs": [
    {
     "data": {
      "text/plain": [
       "<wordcloud.wordcloud.WordCloud at 0x200e90784e0>"
      ]
     },
     "execution_count": 23,
     "metadata": {},
     "output_type": "execute_result"
    }
   ],
   "source": [
    "d = path.dirname(__file__) if \"__file__\" in locals() else getcwd()\n",
    "cloud.to_file(path.join(d, \"iran-wc1.png\"))\n"
   ]
  },
  {
   "cell_type": "code",
   "execution_count": 24,
   "metadata": {},
   "outputs": [
    {
     "data": {
      "image/png": "[encoded data removed]",
      "text/plain": [
       "<Figure size 432x288 with 1 Axes>"
      ]
     },
     "metadata": {},
     "output_type": "display_data"
    },
    {
     "data": {
      "text/plain": [
       "<Figure size 432x288 with 0 Axes>"
      ]
     },
     "metadata": {},
     "output_type": "display_data"
    }
   ],
   "source": [
    "# show\n",
    "plt.imshow(cloud, interpolation='bilinear')\n",
    "plt.axis(\"off\")\n",
    "plt.figure()\n",
    "plt.show()"
   ]
  },
  {
   "cell_type": "code",
   "execution_count": 25,
   "metadata": {},
   "outputs": [
    {
     "data": {
      "text/html": [
       "<div>\n",
       "<style scoped>\n",
       "    .dataframe tbody tr th:only-of-type {\n",
       "        vertical-align: middle;\n",
       "    }\n",
       "\n",
       "    .dataframe tbody tr th {\n",
       "        vertical-align: top;\n",
       "    }\n",
       "\n",
       "    .dataframe thead th {\n",
       "        text-align: right;\n",
       "    }\n",
       "</style>\n",
       "<table border=\"1\" class=\"dataframe\">\n",
       "  <thead>\n",
       "    <tr style=\"text-align: right;\">\n",
       "      <th></th>\n",
       "      <th>authorDisplayName</th>\n",
       "      <th>authorChannelId</th>\n",
       "      <th>channelId</th>\n",
       "      <th>channelTitle</th>\n",
       "    </tr>\n",
       "  </thead>\n",
       "  <tbody>\n",
       "    <tr>\n",
       "      <th>0</th>\n",
       "      <td>john jackson</td>\n",
       "      <td>UCqQ2Lyzto52tvQrJpLtc2ew</td>\n",
       "      <td>UCaFxVc4xHOea6s5CO0eBxIA</td>\n",
       "      <td>PressTV</td>\n",
       "    </tr>\n",
       "    <tr>\n",
       "      <th>1</th>\n",
       "      <td>mohsen majlise</td>\n",
       "      <td>UCp3wi5YQadK4xaIXE2eiEMQ</td>\n",
       "      <td>UCaFxVc4xHOea6s5CO0eBxIA</td>\n",
       "      <td>PressTV</td>\n",
       "    </tr>\n",
       "    <tr>\n",
       "      <th>2</th>\n",
       "      <td>haval 7</td>\n",
       "      <td>UCI2iH7P0HgdmDjfzHb0Nn9A</td>\n",
       "      <td>UCaFxVc4xHOea6s5CO0eBxIA</td>\n",
       "      <td>PressTV</td>\n",
       "    </tr>\n",
       "    <tr>\n",
       "      <th>3</th>\n",
       "      <td>Manzoor Akhone</td>\n",
       "      <td>UCc9IEQ-oAU0CS0PVqxCjyfg</td>\n",
       "      <td>UCaFxVc4xHOea6s5CO0eBxIA</td>\n",
       "      <td>PressTV</td>\n",
       "    </tr>\n",
       "    <tr>\n",
       "      <th>4</th>\n",
       "      <td>Dokhte Iran</td>\n",
       "      <td>UCDDPMgLfslUmr45_jrYoBJQ</td>\n",
       "      <td>UCaFxVc4xHOea6s5CO0eBxIA</td>\n",
       "      <td>PressTV</td>\n",
       "    </tr>\n",
       "  </tbody>\n",
       "</table>\n",
       "</div>"
      ],
      "text/plain": [
       "  authorDisplayName           authorChannelId                 channelId  \\\n",
       "0      john jackson  UCqQ2Lyzto52tvQrJpLtc2ew  UCaFxVc4xHOea6s5CO0eBxIA   \n",
       "1    mohsen majlise  UCp3wi5YQadK4xaIXE2eiEMQ  UCaFxVc4xHOea6s5CO0eBxIA   \n",
       "2           haval 7  UCI2iH7P0HgdmDjfzHb0Nn9A  UCaFxVc4xHOea6s5CO0eBxIA   \n",
       "3    Manzoor Akhone  UCc9IEQ-oAU0CS0PVqxCjyfg  UCaFxVc4xHOea6s5CO0eBxIA   \n",
       "4       Dokhte Iran  UCDDPMgLfslUmr45_jrYoBJQ  UCaFxVc4xHOea6s5CO0eBxIA   \n",
       "\n",
       "  channelTitle  \n",
       "0      PressTV  \n",
       "1      PressTV  \n",
       "2      PressTV  \n",
       "3      PressTV  \n",
       "4      PressTV  "
      ]
     },
     "execution_count": 25,
     "metadata": {},
     "output_type": "execute_result"
    }
   ],
   "source": [
    "comments_to_channel=(pd.merge(comments_df,videos_df,on='videoId'))[['authorDisplayName','authorChannelId','channelId','channelTitle']]\n",
    "comments_to_channel.head()"
   ]
  },
  {
   "cell_type": "code",
   "execution_count": 26,
   "metadata": {},
   "outputs": [],
   "source": [
    "# construction des graphes\n",
    "\n",
    "import plotly.plotly as py\n",
    "from plotly.graph_objs import *\n",
    "\n",
    "import networkx as nx\n",
    "import pandas as pd\n",
    "\n",
    "import matplotlib.pyplot as plt\n",
    "%matplotlib inline"
   ]
  },
  {
   "cell_type": "code",
   "execution_count": 27,
   "metadata": {},
   "outputs": [],
   "source": [
    "names=np.concatenate((comments_to_channel.authorChannelId ,comments_to_channel.channelId))"
   ]
  },
  {
   "cell_type": "code",
   "execution_count": 28,
   "metadata": {},
   "outputs": [],
   "source": [
    "names=np.unique(names)"
   ]
  },
  {
   "cell_type": "code",
   "execution_count": 29,
   "metadata": {},
   "outputs": [],
   "source": [
    "for i in range(len(comments_to_channel.authorChannelId)):\n",
    "    comments_to_channel.authorChannelId[i]=np.where(names==comments_to_channel.authorChannelId[i])[0][0]\n",
    "for i in range(len(comments_to_channel.channelId)):\n",
    "    comments_to_channel.channelId[i]=np.where(names==comments_to_channel.channelId[i])[0][0]"
   ]
  },
  {
   "cell_type": "code",
   "execution_count": 30,
   "metadata": {},
   "outputs": [
    {
     "data": {
      "text/html": [
       "<div>\n",
       "<style scoped>\n",
       "    .dataframe tbody tr th:only-of-type {\n",
       "        vertical-align: middle;\n",
       "    }\n",
       "\n",
       "    .dataframe tbody tr th {\n",
       "        vertical-align: top;\n",
       "    }\n",
       "\n",
       "    .dataframe thead th {\n",
       "        text-align: right;\n",
       "    }\n",
       "</style>\n",
       "<table border=\"1\" class=\"dataframe\">\n",
       "  <thead>\n",
       "    <tr style=\"text-align: right;\">\n",
       "      <th></th>\n",
       "      <th>authorDisplayName</th>\n",
       "      <th>authorChannelId</th>\n",
       "      <th>channelId</th>\n",
       "      <th>channelTitle</th>\n",
       "    </tr>\n",
       "  </thead>\n",
       "  <tbody>\n",
       "    <tr>\n",
       "      <th>0</th>\n",
       "      <td>john jackson</td>\n",
       "      <td>1629</td>\n",
       "      <td>1133</td>\n",
       "      <td>PressTV</td>\n",
       "    </tr>\n",
       "    <tr>\n",
       "      <th>1</th>\n",
       "      <td>mohsen majlise</td>\n",
       "      <td>1582</td>\n",
       "      <td>1133</td>\n",
       "      <td>PressTV</td>\n",
       "    </tr>\n",
       "    <tr>\n",
       "      <th>2</th>\n",
       "      <td>haval 7</td>\n",
       "      <td>563</td>\n",
       "      <td>1133</td>\n",
       "      <td>PressTV</td>\n",
       "    </tr>\n",
       "    <tr>\n",
       "      <th>3</th>\n",
       "      <td>Manzoor Akhone</td>\n",
       "      <td>1182</td>\n",
       "      <td>1133</td>\n",
       "      <td>PressTV</td>\n",
       "    </tr>\n",
       "    <tr>\n",
       "      <th>4</th>\n",
       "      <td>Dokhte Iran</td>\n",
       "      <td>415</td>\n",
       "      <td>1133</td>\n",
       "      <td>PressTV</td>\n",
       "    </tr>\n",
       "  </tbody>\n",
       "</table>\n",
       "</div>"
      ],
      "text/plain": [
       "  authorDisplayName authorChannelId channelId channelTitle\n",
       "0      john jackson            1629      1133      PressTV\n",
       "1    mohsen majlise            1582      1133      PressTV\n",
       "2           haval 7             563      1133      PressTV\n",
       "3    Manzoor Akhone            1182      1133      PressTV\n",
       "4       Dokhte Iran             415      1133      PressTV"
      ]
     },
     "execution_count": 30,
     "metadata": {},
     "output_type": "execute_result"
    }
   ],
   "source": [
    "comments_to_channel.head()"
   ]
  },
  {
   "cell_type": "code",
   "execution_count": 31,
   "metadata": {},
   "outputs": [],
   "source": [
    "comments_to_channel.sort_values(by=\"authorChannelId\",inplace=True)"
   ]
  },
  {
   "cell_type": "code",
   "execution_count": 32,
   "metadata": {},
   "outputs": [
    {
     "data": {
      "image/png": "[encoded data removed]",
      "text/plain": [
       "<Figure size 432x288 with 1 Axes>"
      ]
     },
     "metadata": {},
     "output_type": "display_data"
    }
   ],
   "source": [
    "\n",
    "\n",
    "df = pd.DataFrame(data={\n",
    "    'userFromId':comments_to_channel.authorChannelId,\n",
    "    'userToId':comments_to_channel.channelId,\n",
    "    'userFromName':comments_to_channel.authorDisplayName,\n",
    "    'userToName':comments_to_channel.channelTitle\n",
    "})\n",
    "df=df[:500]\n",
    "\n",
    "df.describe()\n",
    "\n",
    "G = nx.DiGraph()\n",
    "G = nx.Graph()\n",
    "\n",
    "G.add_nodes_from(df['userFromId'])\n",
    "\n",
    "#G.add_edges_from(zip(df['userFromId'],df['userToId']))\n",
    "\n",
    "temp = zip(df['userFromId'],df['userToId'])\n",
    "G.add_edges_from(temp)\n",
    "\n",
    "# nommer les noeuds (les sommets) nodes ou les vertex\n",
    "dfLookup = df[['userFromName','userFromId']].drop_duplicates()\n",
    "\n",
    "dfLookup.head()\n",
    "for userId in dfLookup['userFromId']:\n",
    "    temp = dfLookup['userFromName'][df['userFromId']==userId]\n",
    "    G.node[userId]['userName'] = temp.values[0]\n",
    "\n",
    "nx.draw(G, pos=nx.spring_layout(G,k=.12),node_color='k',edge_color='g')\n",
    "\n",
    "\n",
    "pos=nx.spring_layout(G,k=.12)\n",
    "\n",
    "centralScore = nx.betweenness_centrality(G)"
   ]
  }
 ],
 "metadata": {
  "kernelspec": {
   "display_name": "Python 3",
   "language": "python",
   "name": "python3"
  },
  "language_info": {
   "codemirror_mode": {
    "name": "ipython",
    "version": 3
   },
   "file_extension": ".py",
   "mimetype": "text/x-python",
   "name": "python",
   "nbconvert_exporter": "python",
   "pygments_lexer": "ipython3",
   "version": "3.7.3"
  },
  "varInspector": {
   "cols": {
    "lenName": 16,
    "lenType": 16,
    "lenVar": 40
   },
   "kernels_config": {
    "python": {
     "delete_cmd_postfix": "",
     "delete_cmd_prefix": "del ",
     "library": "var_list.py",
     "varRefreshCmd": "print(var_dic_list())"
    },
    "r": {
     "delete_cmd_postfix": ") ",
     "delete_cmd_prefix": "rm(",
     "library": "var_list.r",
     "varRefreshCmd": "cat(var_dic_list()) "
    }
   },
   "types_to_exclude": [
    "module",
    "function",
    "builtin_function_or_method",
    "instance",
    "_Feature"
   ],
   "window_display": false
  }
 },
 "nbformat": 4,
 "nbformat_minor": 2
}
